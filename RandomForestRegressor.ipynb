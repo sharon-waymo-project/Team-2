{
 "cells": [
  {
   "cell_type": "code",
   "execution_count": 2,
   "metadata": {},
   "outputs": [],
   "source": [
    "import pandas as pd  \n",
    "import numpy as np  \n",
    "import matplotlib.pyplot as plt  \n",
    "import seaborn as seabornInstance \n",
    "from sklearn.model_selection import train_test_split \n",
    "from sklearn.linear_model import LinearRegression\n",
    "from sklearn import metrics\n",
    "import warnings\n",
    "%matplotlib inline"
   ]
  },
  {
   "cell_type": "code",
   "execution_count": 1,
   "metadata": {},
   "outputs": [
    {
     "name": "stdout",
     "output_type": "stream",
     "text": [
      "/home/adityadas96/waymo\n"
     ]
    }
   ],
   "source": [
    "!pwd"
   ]
  },
  {
   "cell_type": "code",
   "execution_count": 16,
   "metadata": {},
   "outputs": [
    {
     "name": "stdout",
     "output_type": "stream",
     "text": [
      "Shape of the training data is (17654, 15)\n",
      "Shape of the validation data is (6947, 15)\n"
     ]
    }
   ],
   "source": [
    "train_dataset = pd.read_csv('/home/scg2151/waymo-project/csv_data/training/training_data_1_12.csv', names=[\"vx\", \"vy\", \"vz\", \"dx\", \"dy\", \"vfx\", \"vfy\", \"vfz\", \"afx\", \"afy\", \"afz\", \"num_v_labels\", \"ax\", \"ay\", \"az\"])\n",
    "test_dataset = pd.read_csv('/home/scg2151/waymo-project/csv_data/validation/validation_data_1_12.csv', names=[\"vx\", \"vy\", \"vz\", \"dx\", \"dy\", \"vfx\", \"vfy\", \"vfz\", \"afx\", \"afy\", \"afz\", \"num_v_labels\", \"ax\", \"ay\", \"az\"])\n",
    "train_dataset = train_dataset.drop(train_dataset.index[0])\n",
    "test_dataset = test_dataset.drop(test_dataset.index[0])\n",
    "print(\"Shape of the training data is\", train_dataset.shape)\n",
    "print(\"Shape of the validation data is\", test_dataset.shape)"
   ]
  },
  {
   "cell_type": "code",
   "execution_count": 17,
   "metadata": {},
   "outputs": [
    {
     "name": "stdout",
     "output_type": "stream",
     "text": [
      "Shape of the X_train is (17654, 12)\n",
      "Shape of the X_test is (6947, 12)\n"
     ]
    }
   ],
   "source": [
    "X_train = train_dataset.iloc[:, :12]\n",
    "X_test = test_dataset.iloc[:, :12]\n",
    "print(\"Shape of the X_train is\", X_train.shape)\n",
    "print(\"Shape of the X_test is\", X_test.shape)"
   ]
  },
  {
   "cell_type": "code",
   "execution_count": 18,
   "metadata": {},
   "outputs": [
    {
     "name": "stdout",
     "output_type": "stream",
     "text": [
      "Shape of the Y_train is (17654, 3)\n",
      "Shape of the Y_test is (6947, 3)\n"
     ]
    }
   ],
   "source": [
    "Y_train = train_dataset.iloc[:,12:]\n",
    "Y_test = test_dataset.iloc[:, 12:]\n",
    "print(\"Shape of the Y_train is\", Y_train.shape)\n",
    "print(\"Shape of the Y_test is\", Y_test.shape)"
   ]
  },
  {
   "cell_type": "code",
   "execution_count": 19,
   "metadata": {},
   "outputs": [],
   "source": [
    "from sklearn.model_selection import GridSearchCV\n",
    "from sklearn.metrics import classification_report, confusion_matrix, f1_score\n",
    "import pickle\n",
    "\n",
    "def grid_search(model_type, tuned_parameters, X_train, y_train, X_test, y_test):\n",
    "    with warnings.catch_warnings():\n",
    "        warnings.simplefilter(\"ignore\")\n",
    "        clf = GridSearchCV(model_type, tuned_parameters, cv=3)\n",
    "        clf.fit(X_train, y_train)\n",
    "        print(\"Best parameters set found on development set:\")\n",
    "        print(\"\")\n",
    "        print(clf.best_params_)\n",
    "        print(\"\")\n",
    "\n",
    "        print(\"The model is trained on the full development set.\")\n",
    "        print(\"The scores are computed on the full evaluation set.\")\n",
    "        print(\"\")\n",
    "        y_true, y_pred = y_test, clf.predict(X_test)\n",
    "        print('Mean Absolute Error:', metrics.mean_absolute_error(y_test, y_pred))  \n",
    "        print('Mean Squared Error:', metrics.mean_squared_error(y_test, y_pred))  \n",
    "        print('Root Mean Squared Error:', np.sqrt(metrics.mean_squared_error(y_test, y_pred)))\n",
    "        return y_pred, y_true"
   ]
  },
  {
   "cell_type": "code",
   "execution_count": 20,
   "metadata": {},
   "outputs": [
    {
     "name": "stdout",
     "output_type": "stream",
     "text": [
      "Best parameters set found on development set:\n",
      "\n",
      "{'n_estimators': 200, 'max_features': 3, 'max_depth': 80}\n",
      "\n",
      "The model is trained on the full development set.\n",
      "The scores are computed on the full evaluation set.\n",
      "\n",
      "Mean Absolute Error: 0.2245551169504908\n",
      "Mean Squared Error: 0.15353712696332444\n",
      "Root Mean Squared Error: 0.3918381387299154\n"
     ]
    }
   ],
   "source": [
    "from sklearn.ensemble import RandomForestRegressor\n",
    "model = RandomForestRegressor()\n",
    "\n",
    "tuned_parameters = [{\n",
    "    'max_depth': [80, 90],\n",
    "    'max_features': [2, 3],\n",
    "    'n_estimators': [100, 200]\n",
    "}]\n",
    "\n",
    "y_pred, y_true = grid_search(model, tuned_parameters, X_train, Y_train, X_test, Y_test)"
   ]
  },
  {
   "cell_type": "code",
   "execution_count": 15,
   "metadata": {},
   "outputs": [],
   "source": [
    "import numpy"
   ]
  },
  {
   "cell_type": "code",
   "execution_count": 9,
   "metadata": {},
   "outputs": [],
   "source": [
    "numpy.savetxt(\"val_pred.csv\", y_pred, delimiter=\",\")"
   ]
  },
  {
   "cell_type": "code",
   "execution_count": 10,
   "metadata": {},
   "outputs": [],
   "source": [
    "test_dataset.to_csv('val_truth.csv', index=False, header=False)"
   ]
  },
  {
   "cell_type": "code",
   "execution_count": null,
   "metadata": {},
   "outputs": [],
   "source": []
  }
 ],
 "metadata": {
  "kernelspec": {
   "display_name": "Python 3",
   "language": "python",
   "name": "python3"
  },
  "language_info": {
   "codemirror_mode": {
    "name": "ipython",
    "version": 3
   },
   "file_extension": ".py",
   "mimetype": "text/x-python",
   "name": "python",
   "nbconvert_exporter": "python",
   "pygments_lexer": "ipython3",
   "version": "3.5.3"
  }
 },
 "nbformat": 4,
 "nbformat_minor": 4
}
