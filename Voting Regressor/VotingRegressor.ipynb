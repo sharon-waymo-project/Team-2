{
  "nbformat": 4,
  "nbformat_minor": 0,
  "metadata": {
    "colab": {
      "name": "VotingRegressor.ipynb",
      "provenance": [],
      "collapsed_sections": [],
      "machine_shape": "hm"
    },
    "kernelspec": {
      "name": "python3",
      "display_name": "Python 3"
    }
  },
  "cells": [
    {
      "cell_type": "code",
      "metadata": {
        "id": "homLdCwFJmbG",
        "colab_type": "code",
        "colab": {}
      },
      "source": [
        "import pandas as pd  \n",
        "import numpy as np  \n",
        "import matplotlib.pyplot as plt\n",
        "from sklearn import metrics\n",
        "import warnings\n",
        "import xgboost\n",
        "from sklearn.ensemble import RandomForestRegressor\n",
        "from sklearn.ensemble import AdaBoostRegressor\n",
        "from sklearn.ensemble import ExtraTreesRegressor\n",
        "from sklearn.ensemble import GradientBoostingRegressor\n",
        "from xgboost import XGBRegressor\n",
        "from sklearn.ensemble import VotingRegressor\n",
        "from sklearn.model_selection import learning_curve\n",
        "%matplotlib inline"
      ],
      "execution_count": 0,
      "outputs": []
    },
    {
      "cell_type": "code",
      "metadata": {
        "id": "LpD9raf6JvpJ",
        "colab_type": "code",
        "outputId": "ebf7d265-f99b-44e7-8b21-7371cae77488",
        "colab": {
          "base_uri": "https://localhost:8080/",
          "height": 122
        }
      },
      "source": [
        "from google.colab import drive\n",
        "drive.mount('/content/gdrive')\n",
        "import os\n",
        "os.chdir(\"/content/gdrive/My Drive/RandomForest\")"
      ],
      "execution_count": 2,
      "outputs": [
        {
          "output_type": "stream",
          "text": [
            "Go to this URL in a browser: https://accounts.google.com/o/oauth2/auth?client_id=947318989803-6bn6qk8qdgf4n4g3pfee6491hc0brc4i.apps.googleusercontent.com&redirect_uri=urn%3aietf%3awg%3aoauth%3a2.0%3aoob&response_type=code&scope=email%20https%3a%2f%2fwww.googleapis.com%2fauth%2fdocs.test%20https%3a%2f%2fwww.googleapis.com%2fauth%2fdrive%20https%3a%2f%2fwww.googleapis.com%2fauth%2fdrive.photos.readonly%20https%3a%2f%2fwww.googleapis.com%2fauth%2fpeopleapi.readonly\n",
            "\n",
            "Enter your authorization code:\n",
            "··········\n",
            "Mounted at /content/gdrive\n"
          ],
          "name": "stdout"
        }
      ]
    },
    {
      "cell_type": "code",
      "metadata": {
        "id": "0KTBhbR7JtG1",
        "colab_type": "code",
        "colab": {}
      },
      "source": [
        "train_dataset = pd.read_csv('training_data_1_12.csv', names=[\"vx\", \"vy\", \"vz\", \"dx\", \"dy\", \"vfx\", \"vfy\", \"vfz\", \"afx\", \"afy\", \"afz\", \"num_v_labels\", \"ax\", \"ay\", \"az\"])\n",
        "test_dataset = pd.read_csv('validation_data_1_12.csv', names=[\"vx\", \"vy\", \"vz\", \"dx\", \"dy\", \"vfx\", \"vfy\", \"vfz\", \"afx\", \"afy\", \"afz\", \"num_v_labels\", \"ax\", \"ay\", \"az\"])\n",
        "train_dataset = train_dataset.drop(train_dataset.index[0])\n",
        "test_dataset = test_dataset.drop(test_dataset.index[0])"
      ],
      "execution_count": 0,
      "outputs": []
    },
    {
      "cell_type": "code",
      "metadata": {
        "id": "-Bx-mzuHKaf0",
        "colab_type": "code",
        "colab": {}
      },
      "source": [
        "X_train = train_dataset.iloc[:, :12]\n",
        "X_test = test_dataset.iloc[:, :12]\n",
        "X_train = X_train.astype(np.float)\n",
        "X_test = X_test.astype(np.float)"
      ],
      "execution_count": 0,
      "outputs": []
    },
    {
      "cell_type": "code",
      "metadata": {
        "id": "_86NQyc_KuQF",
        "colab_type": "code",
        "colab": {}
      },
      "source": [
        "Y_train_ax, Y_train_ay, Y_train_az = train_dataset.iloc[:,12], train_dataset.iloc[:,13], train_dataset.iloc[:, 14]\n",
        "Y_test_ax, Y_test_ay, Y_test_az = test_dataset.iloc[:, 12], test_dataset.iloc[:, 13], test_dataset.iloc[:, 14]\n",
        "Y_train_ax, Y_train_ay, Y_train_az = Y_train_ax.astype(np.float), Y_train_ay.astype(np.float), Y_train_az.astype(np.float)\n",
        "Y_test_ax, Y_test_ay, Y_test_az = Y_test_ax.astype(np.float), Y_test_ay.astype(np.float), Y_test_az.astype(np.float)"
      ],
      "execution_count": 0,
      "outputs": []
    },
    {
      "cell_type": "code",
      "metadata": {
        "id": "eXasjEIfLTIy",
        "colab_type": "code",
        "colab": {}
      },
      "source": [
        "from sklearn.model_selection import GridSearchCV\n",
        "import pickle\n",
        "\n",
        "def train_model(clf, X_train, y_train, X_test, y_test):\n",
        "    with warnings.catch_warnings():\n",
        "        warnings.simplefilter(\"ignore\")\n",
        "        train_sizes = [1, 100, 1000, 10000, 14122]\n",
        "        train_sizes, train_scores, validation_scores = learning_curve(estimator=clf, X=X_train, y=Y_train_ax, \n",
        "                                                                      train_sizes=train_sizes, cv=5, scoring='neg_mean_absolute_error')\n",
        "        \n",
        "        train_scores_mean = -train_scores.mean(axis = 1)\n",
        "        validation_scores_mean = -validation_scores.mean(axis = 1)\n",
        "        clf.fit(X_train, y_train)\n",
        "        print(\"The model is trained on the full development set.\")\n",
        "        print(\"The scores are computed on the full evaluation set.\")\n",
        "        print(\"\")\n",
        "        y_true, y_pred = y_test, clf.predict(X_test)\n",
        "        print('Mean Absolute Error:', metrics.mean_absolute_error(y_test, y_pred))  \n",
        "        print('Mean Squared Error:', metrics.mean_squared_error(y_test, y_pred))  \n",
        "        print('Root Mean Squared Error:', np.sqrt(metrics.mean_squared_error(y_test, y_pred)))\n",
        "        \n",
        "        return train_scores_mean, validation_scores_mean"
      ],
      "execution_count": 0,
      "outputs": []
    },
    {
      "cell_type": "code",
      "metadata": {
        "id": "ljDPLJgELkHI",
        "colab_type": "code",
        "colab": {
          "base_uri": "https://localhost:8080/",
          "height": 323
        },
        "outputId": "8aeeb4be-5d2e-450a-c30e-d66e9a928e3e"
      },
      "source": [
        "random_forest_regressor = RandomForestRegressor(max_depth=80, max_features=3, n_estimators=500)\n",
        "adaboost_regressor = AdaBoostRegressor(learning_rate=0.1, loss='exponential', n_estimators=50)\n",
        "extra_trees_regressor = ExtraTreesRegressor(max_features=10, n_estimators=500)\n",
        "gradient_boosting_regressor = GradientBoostingRegressor(learning_rate=0.02, max_depth=6, max_features=1.0, n_estimators=100)\n",
        "\n",
        "estimators = [\n",
        "  ('rfr', random_forest_regressor),\n",
        "  ('abr', adaboost_regressor),\n",
        "  ('etr', extra_trees_regressor),\n",
        "  ('gbr', gradient_boosting_regressor)\n",
        "]\n",
        "\n",
        "model = VotingRegressor(estimators)\n",
        "train_scores_mean_ax, validation_scores_mean_ax = train_model(model, X_train, Y_train_ax, X_test, Y_test_ax)\n",
        "train_scores_mean_ay, validation_scores_mean_ay = train_model(model, X_train, Y_train_ay, X_test, Y_test_ay)\n",
        "train_scores_mean_az, validation_scores_mean_az = train_model(model, X_train, Y_train_az, X_test, Y_test_az)"
      ],
      "execution_count": 11,
      "outputs": [
        {
          "output_type": "stream",
          "text": [
            "The model is trained on the full development set.\n",
            "The scores are computed on the full evaluation set.\n",
            "\n",
            "Mean Absolute Error: 0.3062644349698517\n",
            "Mean Squared Error: 0.2445410486332857\n",
            "Root Mean Squared Error: 0.49451091861887714\n",
            "The model is trained on the full development set.\n",
            "The scores are computed on the full evaluation set.\n",
            "\n",
            "Mean Absolute Error: 0.2455961242384071\n",
            "Mean Squared Error: 0.1593026628602838\n",
            "Root Mean Squared Error: 0.399127376736154\n",
            "The model is trained on the full development set.\n",
            "The scores are computed on the full evaluation set.\n",
            "\n",
            "Mean Absolute Error: 0.10306331556868915\n",
            "Mean Squared Error: 0.03344153112640741\n",
            "Root Mean Squared Error: 0.18287025763203651\n"
          ],
          "name": "stdout"
        }
      ]
    },
    {
      "cell_type": "code",
      "metadata": {
        "id": "rLk6426HDcVD",
        "colab_type": "code",
        "colab": {}
      },
      "source": [
        "train_scores_mean = (train_scores_mean_ax + train_scores_mean_ay + train_scores_mean_az) / 3.0\n",
        "validation_scores_mean = (validation_scores_mean_ax + validation_scores_mean_ay + validation_scores_mean_az) / 3.0"
      ],
      "execution_count": 0,
      "outputs": []
    },
    {
      "cell_type": "code",
      "metadata": {
        "id": "PvJ3coL9Ywcj",
        "colab_type": "code",
        "colab": {
          "base_uri": "https://localhost:8080/",
          "height": 733
        },
        "outputId": "d8980e45-3638-4268-df69-d86e5980f85b"
      },
      "source": [
        "train_sizes = [1, 100, 1000, 10000, 14122]\n",
        "print('Mean training scores\\n\\n', pd.Series(train_scores_mean, index = train_sizes))\n",
        "print('\\n', '-' * 20) # separator\n",
        "print('\\nMean validation scores\\n\\n',pd.Series(validation_scores_mean, index = train_sizes))\n",
        "\n",
        "plt.style.use('seaborn')\n",
        "plt.plot(train_sizes, train_scores_mean, label = 'Training error')\n",
        "plt.plot(train_sizes, validation_scores_mean, label = 'Validation error')\n",
        "plt.ylabel('MAE', fontsize = 14)\n",
        "plt.xlabel('Training set size', fontsize = 14)\n",
        "plt.title('Learning curves for a Voting Regression model', fontsize = 18, y = 1.03)\n",
        "plt.legend()\n",
        "plt.ylim(0,0.6)"
      ],
      "execution_count": 21,
      "outputs": [
        {
          "output_type": "stream",
          "text": [
            "Mean training scores\n",
            "\n",
            " 1        6.938894e-19\n",
            "100      1.949251e-02\n",
            "1000     7.123584e-02\n",
            "10000    9.322623e-02\n",
            "14122    9.574112e-02\n",
            "dtype: float64\n",
            "\n",
            " --------------------\n",
            "\n",
            "Mean validation scores\n",
            "\n",
            " 1        0.267035\n",
            "100      0.516995\n",
            "1000     0.275628\n",
            "10000    0.226588\n",
            "14122    0.215189\n",
            "dtype: float64\n"
          ],
          "name": "stdout"
        },
        {
          "output_type": "execute_result",
          "data": {
            "text/plain": [
              "(0, 0.6)"
            ]
          },
          "metadata": {
            "tags": []
          },
          "execution_count": 21
        },
        {
          "output_type": "display_data",
          "data": {
            "image/png": "[encoded data removed]",
            "text/plain": [
              "<Figure size 576x396 with 1 Axes>"
            ]
          },
          "metadata": {
            "tags": []
          }
        }
      ]
    },
    {
      "cell_type": "code",
      "metadata": {
        "id": "wFScNzdvZCk1",
        "colab_type": "code",
        "colab": {}
      },
      "source": [
        ""
      ],
      "execution_count": 0,
      "outputs": []
    }
  ]
}