{
 "cells": [
  {
   "cell_type": "code",
   "execution_count": 1,
   "metadata": {
    "colab": {},
    "colab_type": "code",
    "id": "rNVB1Az_G6A5"
   },
   "outputs": [],
   "source": [
    "import pandas as pd  \n",
    "import numpy as np  \n",
    "import matplotlib.pyplot as plt  \n",
    "import seaborn as seabornInstance \n",
    "from sklearn.model_selection import train_test_split \n",
    "from sklearn.linear_model import LinearRegression\n",
    "from sklearn import metrics\n",
    "import warnings\n",
    "%matplotlib inline"
   ]
  },
  {
   "cell_type": "code",
   "execution_count": 2,
   "metadata": {
    "colab": {
     "base_uri": "https://localhost:8080/",
     "height": 119
    },
    "colab_type": "code",
    "id": "6zftvooYG6BC",
    "outputId": "4eff4566-fa04-4eb9-e7ca-fcce3240e037"
   },
   "outputs": [
    {
     "name": "stdout",
     "output_type": "stream",
     "text": [
      "Go to this URL in a browser: https://accounts.google.com/o/oauth2/auth?client_id=947318989803-6bn6qk8qdgf4n4g3pfee6491hc0brc4i.apps.googleusercontent.com&redirect_uri=urn%3aietf%3awg%3aoauth%3a2.0%3aoob&response_type=code&scope=email%20https%3a%2f%2fwww.googleapis.com%2fauth%2fdocs.test%20https%3a%2f%2fwww.googleapis.com%2fauth%2fdrive%20https%3a%2f%2fwww.googleapis.com%2fauth%2fdrive.photos.readonly%20https%3a%2f%2fwww.googleapis.com%2fauth%2fpeopleapi.readonly\n",
      "\n",
      "Enter your authorization code:\n",
      "··········\n",
      "Mounted at /content/gdrive\n"
     ]
    }
   ],
   "source": [
    "# from google.colab import drive\n",
    "# drive.mount('/content/gdrive')\n",
    "# import os\n",
    "# os.chdir(\"/content/gdrive/My Drive/RandomForest\")"
   ]
  },
  {
   "cell_type": "code",
   "execution_count": 2,
   "metadata": {
    "colab": {
     "base_uri": "https://localhost:8080/",
     "height": 49
    },
    "colab_type": "code",
    "id": "eXrL3AQWG6BJ",
    "outputId": "7c91544b-16cf-4cf9-8e9c-78dc25f6aeba"
   },
   "outputs": [
    {
     "name": "stderr",
     "output_type": "stream",
     "text": [
      "/usr/local/lib/python3.5/dist-packages/IPython/core/interactiveshell.py:3058: DtypeWarning: Columns (0,1,2,3,4,5,6,7,8,9,10,11,12,13,14) have mixed types. Specify dtype option on import or set low_memory=False.\n",
      "  interactivity=interactivity, compiler=compiler, result=result)\n"
     ]
    },
    {
     "name": "stdout",
     "output_type": "stream",
     "text": [
      "Shape of the training data is (154371, 15)\n",
      "Shape of the validation data is (29004, 15)\n"
     ]
    }
   ],
   "source": [
    "train_dataset = pd.read_csv('../../train_final.csv', names=[\"vx\", \"vy\", \"vz\", \"dx\", \"dy\", \"vfx\", \"vfy\", \"vfz\", \"afx\", \"afy\", \"afz\", \"num_v_labels\", \"ax\", \"ay\", \"az\"])\n",
    "test_dataset = pd.read_csv('../../test.csv', names=[\"vx\", \"vy\", \"vz\", \"dx\", \"dy\", \"vfx\", \"vfy\", \"vfz\", \"afx\", \"afy\", \"afz\", \"num_v_labels\", \"ax\", \"ay\", \"az\"])\n",
    "train_dataset = train_dataset.drop(train_dataset.index[0])\n",
    "test_dataset = test_dataset.drop(test_dataset.index[0])\n",
    "print(\"Shape of the training data is\", train_dataset.shape)\n",
    "print(\"Shape of the validation data is\", test_dataset.shape)"
   ]
  },
  {
   "cell_type": "code",
   "execution_count": 3,
   "metadata": {
    "colab": {
     "base_uri": "https://localhost:8080/",
     "height": 49
    },
    "colab_type": "code",
    "id": "zTKZ5mUaG6BN",
    "outputId": "81f1f16f-f92e-4f06-d389-b6d38041dab3"
   },
   "outputs": [
    {
     "name": "stdout",
     "output_type": "stream",
     "text": [
      "Shape of the X_train is (154371, 12)\n",
      "Shape of the X_test is (29004, 12)\n"
     ]
    }
   ],
   "source": [
    "X_train = train_dataset.iloc[:, :12]\n",
    "X_test = test_dataset.iloc[:, :12]\n",
    "print(\"Shape of the X_train is\", X_train.shape)\n",
    "print(\"Shape of the X_test is\", X_test.shape)"
   ]
  },
  {
   "cell_type": "code",
   "execution_count": 4,
   "metadata": {
    "colab": {
     "base_uri": "https://localhost:8080/",
     "height": 49
    },
    "colab_type": "code",
    "id": "ekAWXrP7G6BR",
    "outputId": "aac82ce9-7f88-41cb-fb77-f2a2db235b4f"
   },
   "outputs": [
    {
     "name": "stdout",
     "output_type": "stream",
     "text": [
      "Shape of the Y_train is (154371, 3)\n",
      "Shape of the Y_test is (29004, 3)\n"
     ]
    }
   ],
   "source": [
    "Y_train = train_dataset.iloc[:,12:]\n",
    "Y_test = test_dataset.iloc[:, 12:]\n",
    "print(\"Shape of the Y_train is\", Y_train.shape)\n",
    "print(\"Shape of the Y_test is\", Y_test.shape)"
   ]
  },
  {
   "cell_type": "code",
   "execution_count": 5,
   "metadata": {
    "colab": {},
    "colab_type": "code",
    "id": "FqTxAe3zG6BT"
   },
   "outputs": [],
   "source": [
    "from sklearn.model_selection import GridSearchCV\n",
    "from sklearn.metrics import classification_report, confusion_matrix, f1_score\n",
    "import pickle\n",
    "\n",
    "def grid_search(model_type, tuned_parameters, X_train, y_train, X_test, y_test, file_name):\n",
    "    with warnings.catch_warnings():\n",
    "        warnings.simplefilter(\"ignore\")\n",
    "        clf = GridSearchCV(model_type, tuned_parameters, cv=3)\n",
    "        clf.fit(X_train, y_train)\n",
    "        print(\"Best parameters set found on development set:\")\n",
    "        print(\"\")\n",
    "        print(clf.best_params_)\n",
    "        print(\"\")\n",
    "        print(\"Saving the weights of the model\")\n",
    "        pickle.dump(clf, open(file_name, 'wb'))\n",
    "        print(\"The model is trained on the full development set.\")\n",
    "        print(\"The scores are computed on the full evaluation set.\")\n",
    "        print(\"\")\n",
    "        y_true, y_pred = y_test, clf.predict(X_test)\n",
    "        print('Mean Absolute Error:', metrics.mean_absolute_error(y_test, y_pred))  \n",
    "        print('Mean Squared Error:', metrics.mean_squared_error(y_test, y_pred))  \n",
    "        print('Root Mean Squared Error:', np.sqrt(metrics.mean_squared_error(y_test, y_pred)))\n",
    "        return y_pred, y_true"
   ]
  },
  {
   "cell_type": "code",
   "execution_count": null,
   "metadata": {
    "colab": {
     "base_uri": "https://localhost:8080/",
     "height": 197
    },
    "colab_type": "code",
    "id": "zqcsGaTJG6BV",
    "outputId": "29df0aba-c15e-4ff0-ad9a-a41dcf999963"
   },
   "outputs": [],
   "source": [
    "from sklearn.ensemble import RandomForestRegressor\n",
    "model = RandomForestRegressor()\n",
    "\n",
    "tuned_parameters = [{\n",
    "    'max_depth': [80, 90, 100, 110],\n",
    "    'max_features': [2, 3],\n",
    "    'min_samples_leaf': [3, 4, 5],\n",
    "    'min_samples_split': [10],\n",
    "    'n_estimators': [100, 200]\n",
    "}]\n",
    "\n",
    "y_pred, y_true = grid_search(model, tuned_parameters, X_train, Y_train, X_test, Y_test, \"random_forest_weights_lg.sav\")"
   ]
  },
  {
   "cell_type": "code",
   "execution_count": null,
   "metadata": {
    "colab": {},
    "colab_type": "code",
    "id": "zyvGj4cPG6Bb"
   },
   "outputs": [],
   "source": []
  }
 ],
 "metadata": {
  "colab": {
   "collapsed_sections": [],
   "name": "RandomForestRegressor.ipynb",
   "provenance": []
  },
  "kernelspec": {
   "display_name": "Python 3",
   "language": "python",
   "name": "python3"
  },
  "language_info": {
   "codemirror_mode": {
    "name": "ipython",
    "version": 3
   },
   "file_extension": ".py",
   "mimetype": "text/x-python",
   "name": "python",
   "nbconvert_exporter": "python",
   "pygments_lexer": "ipython3",
   "version": "3.5.3"
  }
 },
 "nbformat": 4,
 "nbformat_minor": 4
}
