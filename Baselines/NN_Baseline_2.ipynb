{
 "cells": [
  {
   "cell_type": "code",
   "execution_count": 1,
   "metadata": {},
   "outputs": [],
   "source": [
    "import pandas as pd  \n",
    "import numpy as np  \n",
    "import matplotlib.pyplot as plt  \n",
    "import seaborn as seabornInstance \n",
    "from sklearn.model_selection import train_test_split \n",
    "from sklearn.linear_model import LinearRegression\n",
    "from sklearn import metrics\n",
    "%matplotlib inline"
   ]
  },
  {
   "cell_type": "code",
   "execution_count": 2,
   "metadata": {},
   "outputs": [
    {
     "name": "stdout",
     "output_type": "stream",
     "text": [
      "Shape of the training data is (17654, 15)\n",
      "Shape of the validation data is (6947, 15)\n"
     ]
    }
   ],
   "source": [
    "train_dataset = pd.read_csv('/home/scg2151/waymo-project/csv_data/training/training_data_1_12.csv', names=[\"vx\", \"vy\", \"vz\", \"dx\", \"dy\", \"vfx\", \"vfy\", \"vfz\", \"afx\", \"afy\", \"afz\", \"num_v_labels\", \"ax\", \"ay\", \"az\"])\n",
    "test_dataset = pd.read_csv('/home/scg2151/waymo-project/csv_data/validation/validation_data_1_12.csv', names=[\"vx\", \"vy\", \"vz\", \"dx\", \"dy\", \"vfx\", \"vfy\", \"vfz\", \"afx\", \"afy\", \"afz\", \"num_v_labels\", \"ax\", \"ay\", \"az\"])\n",
    "train_dataset = train_dataset.drop(train_dataset.index[0])\n",
    "test_dataset = test_dataset.drop(test_dataset.index[0])\n",
    "print(\"Shape of the training data is\", train_dataset.shape)\n",
    "print(\"Shape of the validation data is\", test_dataset.shape)"
   ]
  },
  {
   "cell_type": "code",
   "execution_count": 3,
   "metadata": {},
   "outputs": [
    {
     "name": "stdout",
     "output_type": "stream",
     "text": [
      "Shape of the X_train is (17654, 12)\n",
      "Shape of the X_test is (6947, 12)\n"
     ]
    }
   ],
   "source": [
    "X_train = train_dataset.iloc[:, :12]\n",
    "X_test = test_dataset.iloc[:, :12]\n",
    "print(\"Shape of the X_train is\", X_train.shape)\n",
    "print(\"Shape of the X_test is\", X_test.shape)"
   ]
  },
  {
   "cell_type": "code",
   "execution_count": 4,
   "metadata": {},
   "outputs": [
    {
     "name": "stdout",
     "output_type": "stream",
     "text": [
      "Shape of the Y_train is (17654, 3)\n",
      "Shape of the Y_test is (6947, 3)\n"
     ]
    }
   ],
   "source": [
    "Y_train = train_dataset.iloc[:,12:]\n",
    "Y_test = test_dataset.iloc[:, 12:]\n",
    "print(\"Shape of the Y_train is\", Y_train.shape)\n",
    "print(\"Shape of the Y_test is\", Y_test.shape)"
   ]
  },
  {
   "cell_type": "code",
   "execution_count": 5,
   "metadata": {},
   "outputs": [],
   "source": [
    "X_train, X_val, Y_train, Y_val = train_test_split(X_train, Y_train, test_size=0.1)"
   ]
  },
  {
   "cell_type": "code",
   "execution_count": 6,
   "metadata": {},
   "outputs": [
    {
     "name": "stderr",
     "output_type": "stream",
     "text": [
      "Using TensorFlow backend.\n"
     ]
    },
    {
     "name": "stdout",
     "output_type": "stream",
     "text": [
      "WARNING:tensorflow:From /usr/local/lib/python3.5/dist-packages/tensorflow_core/python/ops/resource_variable_ops.py:1630: calling BaseResourceVariable.__init__ (from tensorflow.python.ops.resource_variable_ops) with constraint is deprecated and will be removed in a future version.\n",
      "Instructions for updating:\n",
      "If using Keras pass *_constraint arguments to layers.\n",
      "WARNING:tensorflow:From /usr/local/lib/python3.5/dist-packages/keras/backend/tensorflow_backend.py:422: The name tf.global_variables is deprecated. Please use tf.compat.v1.global_variables instead.\n",
      "\n",
      "Train on 15888 samples, validate on 1766 samples\n",
      "Epoch 1/50\n",
      "15888/15888 [==============================] - 2s 138us/step - loss: 0.2526 - mse: 0.2526 - mae: 0.3338 - val_loss: 0.1850 - val_mse: 0.1850 - val_mae: 0.2516\n",
      "Epoch 2/50\n",
      "15888/15888 [==============================] - 2s 106us/step - loss: 0.1777 - mse: 0.1777 - mae: 0.2402 - val_loss: 0.1824 - val_mse: 0.1824 - val_mae: 0.2490\n",
      "Epoch 3/50\n",
      "15888/15888 [==============================] - 2s 104us/step - loss: 0.1713 - mse: 0.1713 - mae: 0.2395 - val_loss: 0.1702 - val_mse: 0.1702 - val_mae: 0.2479\n",
      "Epoch 4/50\n",
      "15888/15888 [==============================] - 2s 107us/step - loss: 0.1587 - mse: 0.1587 - mae: 0.2322 - val_loss: 0.1552 - val_mse: 0.1552 - val_mae: 0.2322\n",
      "Epoch 5/50\n",
      "15888/15888 [==============================] - 2s 104us/step - loss: 0.1467 - mse: 0.1467 - mae: 0.2201 - val_loss: 0.1467 - val_mse: 0.1467 - val_mae: 0.2218\n",
      "Epoch 6/50\n",
      "15888/15888 [==============================] - 2s 104us/step - loss: 0.1408 - mse: 0.1408 - mae: 0.2132 - val_loss: 0.1478 - val_mse: 0.1478 - val_mae: 0.2230\n",
      "Epoch 7/50\n",
      "15888/15888 [==============================] - 2s 106us/step - loss: 0.1399 - mse: 0.1399 - mae: 0.2118 - val_loss: 0.1437 - val_mse: 0.1437 - val_mae: 0.2185\n",
      "Epoch 8/50\n",
      "15888/15888 [==============================] - 2s 107us/step - loss: 0.1390 - mse: 0.1390 - mae: 0.2106 - val_loss: 0.1453 - val_mse: 0.1453 - val_mae: 0.2192\n",
      "Epoch 9/50\n",
      "15888/15888 [==============================] - 2s 107us/step - loss: 0.1387 - mse: 0.1387 - mae: 0.2102 - val_loss: 0.1429 - val_mse: 0.1429 - val_mae: 0.2181\n",
      "Epoch 10/50\n",
      "15888/15888 [==============================] - 2s 106us/step - loss: 0.1385 - mse: 0.1385 - mae: 0.2100 - val_loss: 0.1416 - val_mse: 0.1416 - val_mae: 0.2179\n",
      "Epoch 11/50\n",
      "15888/15888 [==============================] - 2s 105us/step - loss: 0.1381 - mse: 0.1381 - mae: 0.2100 - val_loss: 0.1413 - val_mse: 0.1413 - val_mae: 0.2174\n",
      "Epoch 12/50\n",
      "15888/15888 [==============================] - 2s 111us/step - loss: 0.1376 - mse: 0.1376 - mae: 0.2094 - val_loss: 0.1415 - val_mse: 0.1415 - val_mae: 0.2170\n",
      "Epoch 13/50\n",
      "15888/15888 [==============================] - 2s 106us/step - loss: 0.1371 - mse: 0.1371 - mae: 0.2091 - val_loss: 0.1448 - val_mse: 0.1448 - val_mae: 0.2218\n",
      "Epoch 14/50\n",
      "15888/15888 [==============================] - 2s 105us/step - loss: 0.1366 - mse: 0.1366 - mae: 0.2086 - val_loss: 0.1410 - val_mse: 0.1410 - val_mae: 0.2200\n",
      "Epoch 15/50\n",
      "15888/15888 [==============================] - 2s 105us/step - loss: 0.1358 - mse: 0.1358 - mae: 0.2079 - val_loss: 0.1406 - val_mse: 0.1406 - val_mae: 0.2193\n",
      "Epoch 16/50\n",
      "15888/15888 [==============================] - 2s 104us/step - loss: 0.1354 - mse: 0.1354 - mae: 0.2074 - val_loss: 0.1399 - val_mse: 0.1399 - val_mae: 0.2147\n",
      "Epoch 17/50\n",
      "15888/15888 [==============================] - 2s 104us/step - loss: 0.1348 - mse: 0.1348 - mae: 0.2067 - val_loss: 0.1389 - val_mse: 0.1389 - val_mae: 0.2141\n",
      "Epoch 18/50\n",
      "15888/15888 [==============================] - 2s 103us/step - loss: 0.1345 - mse: 0.1345 - mae: 0.2062 - val_loss: 0.1382 - val_mse: 0.1382 - val_mae: 0.2147\n",
      "Epoch 19/50\n",
      "15888/15888 [==============================] - 2s 104us/step - loss: 0.1342 - mse: 0.1342 - mae: 0.2057 - val_loss: 0.1384 - val_mse: 0.1384 - val_mae: 0.2140\n",
      "Epoch 20/50\n",
      "15888/15888 [==============================] - 2s 102us/step - loss: 0.1338 - mse: 0.1338 - mae: 0.2053 - val_loss: 0.1383 - val_mse: 0.1383 - val_mae: 0.2127\n",
      "Epoch 21/50\n",
      "15888/15888 [==============================] - 2s 105us/step - loss: 0.1336 - mse: 0.1336 - mae: 0.2051 - val_loss: 0.1379 - val_mse: 0.1379 - val_mae: 0.2135\n",
      "Epoch 22/50\n",
      "15888/15888 [==============================] - 2s 103us/step - loss: 0.1333 - mse: 0.1333 - mae: 0.2044 - val_loss: 0.1413 - val_mse: 0.1413 - val_mae: 0.2203\n",
      "Epoch 23/50\n",
      "15888/15888 [==============================] - 2s 103us/step - loss: 0.1329 - mse: 0.1329 - mae: 0.2042 - val_loss: 0.1383 - val_mse: 0.1383 - val_mae: 0.2129\n",
      "Epoch 24/50\n",
      "15888/15888 [==============================] - 2s 104us/step - loss: 0.1327 - mse: 0.1327 - mae: 0.2037 - val_loss: 0.1392 - val_mse: 0.1392 - val_mae: 0.2183\n",
      "Epoch 25/50\n",
      "15888/15888 [==============================] - 2s 105us/step - loss: 0.1325 - mse: 0.1325 - mae: 0.2033 - val_loss: 0.1373 - val_mse: 0.1373 - val_mae: 0.2130\n",
      "Epoch 26/50\n",
      "15888/15888 [==============================] - 2s 103us/step - loss: 0.1321 - mse: 0.1321 - mae: 0.2028 - val_loss: 0.1373 - val_mse: 0.1373 - val_mae: 0.2116\n",
      "Epoch 27/50\n",
      "15888/15888 [==============================] - 2s 104us/step - loss: 0.1320 - mse: 0.1320 - mae: 0.2029 - val_loss: 0.1369 - val_mse: 0.1369 - val_mae: 0.2126\n",
      "Epoch 28/50\n",
      "15888/15888 [==============================] - 2s 104us/step - loss: 0.1317 - mse: 0.1317 - mae: 0.2024 - val_loss: 0.1372 - val_mse: 0.1372 - val_mae: 0.2115\n",
      "Epoch 29/50\n",
      "15888/15888 [==============================] - 2s 105us/step - loss: 0.1316 - mse: 0.1316 - mae: 0.2024 - val_loss: 0.1360 - val_mse: 0.1360 - val_mae: 0.2111\n",
      "Epoch 30/50\n",
      "15888/15888 [==============================] - 2s 106us/step - loss: 0.1314 - mse: 0.1314 - mae: 0.2023 - val_loss: 0.1360 - val_mse: 0.1360 - val_mae: 0.2104\n",
      "Epoch 31/50\n",
      "15888/15888 [==============================] - 2s 104us/step - loss: 0.1312 - mse: 0.1312 - mae: 0.2020 - val_loss: 0.1368 - val_mse: 0.1368 - val_mae: 0.2107\n",
      "Epoch 32/50\n",
      "15888/15888 [==============================] - 2s 108us/step - loss: 0.1312 - mse: 0.1312 - mae: 0.2021 - val_loss: 0.1372 - val_mse: 0.1372 - val_mae: 0.2113\n",
      "Epoch 33/50\n",
      "15888/15888 [==============================] - 2s 106us/step - loss: 0.1311 - mse: 0.1311 - mae: 0.2019 - val_loss: 0.1372 - val_mse: 0.1372 - val_mae: 0.2119\n",
      "Epoch 34/50\n",
      "15888/15888 [==============================] - 2s 108us/step - loss: 0.1310 - mse: 0.1310 - mae: 0.2018 - val_loss: 0.1361 - val_mse: 0.1361 - val_mae: 0.2105\n",
      "Epoch 35/50\n",
      "15888/15888 [==============================] - 2s 107us/step - loss: 0.1309 - mse: 0.1309 - mae: 0.2015 - val_loss: 0.1369 - val_mse: 0.1369 - val_mae: 0.2113\n",
      "Epoch 36/50\n",
      "15888/15888 [==============================] - 2s 106us/step - loss: 0.1308 - mse: 0.1308 - mae: 0.2016 - val_loss: 0.1362 - val_mse: 0.1362 - val_mae: 0.2103\n",
      "Epoch 37/50\n",
      "15888/15888 [==============================] - 2s 107us/step - loss: 0.1307 - mse: 0.1307 - mae: 0.2016 - val_loss: 0.1359 - val_mse: 0.1359 - val_mae: 0.2102\n",
      "Epoch 38/50\n",
      "15888/15888 [==============================] - 2s 109us/step - loss: 0.1306 - mse: 0.1306 - mae: 0.2015 - val_loss: 0.1369 - val_mse: 0.1369 - val_mae: 0.2124\n",
      "Epoch 39/50\n",
      "15888/15888 [==============================] - 2s 109us/step - loss: 0.1304 - mse: 0.1304 - mae: 0.2012 - val_loss: 0.1358 - val_mse: 0.1358 - val_mae: 0.2101\n",
      "Epoch 40/50\n",
      "15888/15888 [==============================] - 2s 108us/step - loss: 0.1304 - mse: 0.1304 - mae: 0.2013 - val_loss: 0.1349 - val_mse: 0.1349 - val_mae: 0.2095\n",
      "Epoch 41/50\n",
      "15888/15888 [==============================] - 2s 109us/step - loss: 0.1304 - mse: 0.1304 - mae: 0.2012 - val_loss: 0.1365 - val_mse: 0.1365 - val_mae: 0.2106\n",
      "Epoch 42/50\n",
      "15888/15888 [==============================] - 2s 108us/step - loss: 0.1302 - mse: 0.1302 - mae: 0.2010 - val_loss: 0.1353 - val_mse: 0.1353 - val_mae: 0.2095\n",
      "Epoch 43/50\n",
      "15888/15888 [==============================] - 2s 109us/step - loss: 0.1302 - mse: 0.1302 - mae: 0.2011 - val_loss: 0.1352 - val_mse: 0.1352 - val_mae: 0.2109\n",
      "Epoch 44/50\n",
      "15888/15888 [==============================] - 2s 107us/step - loss: 0.1302 - mse: 0.1302 - mae: 0.2010 - val_loss: 0.1349 - val_mse: 0.1349 - val_mae: 0.2097\n",
      "Epoch 45/50\n"
     ]
    },
    {
     "name": "stdout",
     "output_type": "stream",
     "text": [
      "15888/15888 [==============================] - 2s 107us/step - loss: 0.1300 - mse: 0.1300 - mae: 0.2007 - val_loss: 0.1348 - val_mse: 0.1348 - val_mae: 0.2092\n",
      "Epoch 46/50\n",
      "15888/15888 [==============================] - 2s 109us/step - loss: 0.1300 - mse: 0.1300 - mae: 0.2008 - val_loss: 0.1348 - val_mse: 0.1348 - val_mae: 0.2092\n",
      "Epoch 47/50\n",
      "15888/15888 [==============================] - 2s 110us/step - loss: 0.1300 - mse: 0.1300 - mae: 0.2006 - val_loss: 0.1362 - val_mse: 0.1362 - val_mae: 0.2128\n",
      "Epoch 48/50\n",
      "15888/15888 [==============================] - 2s 107us/step - loss: 0.1300 - mse: 0.1300 - mae: 0.2008 - val_loss: 0.1349 - val_mse: 0.1349 - val_mae: 0.2087\n",
      "Epoch 49/50\n",
      "15888/15888 [==============================] - 2s 106us/step - loss: 0.1299 - mse: 0.1299 - mae: 0.2007 - val_loss: 0.1345 - val_mse: 0.1345 - val_mae: 0.2094\n",
      "Epoch 50/50\n",
      "15888/15888 [==============================] - 2s 105us/step - loss: 0.1298 - mse: 0.1298 - mae: 0.2006 - val_loss: 0.1344 - val_mse: 0.1344 - val_mae: 0.2091\n"
     ]
    }
   ],
   "source": [
    "from keras.models import Sequential\n",
    "from keras.layers import Dense\n",
    "\n",
    "model = Sequential([\n",
    "    Dense(16, activation='relu', input_shape=(12,)),\n",
    "    \n",
    "    Dense(4, activation='relu'),\n",
    "    Dense(3, activation='sigmoid'),\n",
    "])\n",
    "model.compile(optimizer='nadam', loss='mse',\n",
    "              metrics=['mse', 'mae'])\n",
    "hist = model.fit(X_train, Y_train,\n",
    "          batch_size=32, epochs=50,\n",
    "          validation_data=(X_val, Y_val))"
   ]
  },
  {
   "cell_type": "code",
   "execution_count": 7,
   "metadata": {},
   "outputs": [
    {
     "data": {
      "image/png": "[encoded data removed]",
      "text/plain": [
       "<Figure size 432x288 with 1 Axes>"
      ]
     },
     "metadata": {
      "needs_background": "light"
     },
     "output_type": "display_data"
    }
   ],
   "source": [
    "plt.plot(hist.history['mae'])\n",
    "plt.plot(hist.history['val_mae'])\n",
    "plt.title('MAE')\n",
    "plt.ylabel('Loss')\n",
    "plt.xlabel('Epoch')\n",
    "plt.legend(['Train', 'Test'], loc='upper left')\n",
    "plt.show()"
   ]
  },
  {
   "cell_type": "code",
   "execution_count": 8,
   "metadata": {},
   "outputs": [
    {
     "name": "stdout",
     "output_type": "stream",
     "text": [
      "Mean Absolute Error: 0.2933130693573257\n",
      "Mean Squared Error: 0.23518977237468308\n",
      "Root Mean Squared Error: 0.48496368150066976\n"
     ]
    }
   ],
   "source": [
    "y_pred = model.predict(X_test)\n",
    "print('Mean Absolute Error:', metrics.mean_absolute_error(Y_test, y_pred))  \n",
    "print('Mean Squared Error:', metrics.mean_squared_error(Y_test, y_pred))  \n",
    "print('Root Mean Squared Error:', np.sqrt(metrics.mean_squared_error(Y_test, y_pred)))"
   ]
  },
  {
   "cell_type": "code",
   "execution_count": null,
   "metadata": {},
   "outputs": [],
   "source": []
  }
 ],
 "metadata": {
  "kernelspec": {
   "display_name": "Python 3",
   "language": "python",
   "name": "python3"
  },
  "language_info": {
   "codemirror_mode": {
    "name": "ipython",
    "version": 3
   },
   "file_extension": ".py",
   "mimetype": "text/x-python",
   "name": "python",
   "nbconvert_exporter": "python",
   "pygments_lexer": "ipython3",
   "version": "3.5.3"
  }
 },
 "nbformat": 4,
 "nbformat_minor": 2
}
