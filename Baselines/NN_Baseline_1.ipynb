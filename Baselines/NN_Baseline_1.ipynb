{
 "cells": [
  {
   "cell_type": "code",
   "execution_count": 1,
   "metadata": {},
   "outputs": [],
   "source": [
    "import pandas as pd  \n",
    "import numpy as np  \n",
    "import matplotlib.pyplot as plt  \n",
    "import seaborn as seabornInstance \n",
    "from sklearn.model_selection import train_test_split \n",
    "from sklearn.linear_model import LinearRegression\n",
    "from sklearn import metrics\n",
    "%matplotlib inline"
   ]
  },
  {
   "cell_type": "code",
   "execution_count": 39,
   "metadata": {},
   "outputs": [],
   "source": [
    "train_dataset = pd.read_csv('/home/scg2151/waymo-project/csv_data/training/training_data_1_12.csv', names=[\"vx\", \"vy\", \"vz\", \"dx\", \"dy\", \"vfx\", \"vfy\", \"vfz\", \"afx\", \"afy\", \"afz\", \"num_v_labels\", \"ax\", \"ay\", \"az\"])\n",
    "test_dataset = pd.read_csv('/home/scg2151/waymo-project/csv_data/validation/validation_data_1_12.csv', names=[\"vx\", \"vy\", \"vz\", \"dx\", \"dy\", \"vfx\", \"vfy\", \"vfz\", \"afx\", \"afy\", \"afz\", \"num_v_labels\", \"ax\", \"ay\", \"az\"])"
   ]
  },
  {
   "cell_type": "code",
   "execution_count": 40,
   "metadata": {},
   "outputs": [],
   "source": [
    "train_dataset = train_dataset.drop(train_dataset.index[0])\n",
    "test_dataset = test_dataset.drop(test_dataset.index[0])"
   ]
  },
  {
   "cell_type": "code",
   "execution_count": 41,
   "metadata": {},
   "outputs": [
    {
     "name": "stdout",
     "output_type": "stream",
     "text": [
      "Shape of the training data is (17654, 15)\n",
      "Shape of the validation data is (6947, 15)\n"
     ]
    }
   ],
   "source": [
    "print(\"Shape of the training data is\", train_dataset.shape)\n",
    "print(\"Shape of the validation data is\", test_dataset.shape)"
   ]
  },
  {
   "cell_type": "code",
   "execution_count": 42,
   "metadata": {},
   "outputs": [
    {
     "name": "stdout",
     "output_type": "stream",
     "text": [
      "Shape of the X_train is (17654, 12)\n",
      "Shape of the X_test is (6947, 12)\n"
     ]
    }
   ],
   "source": [
    "X_train = train_dataset.iloc[:, :12]\n",
    "X_test = test_dataset.iloc[:, :12]\n",
    "print(\"Shape of the X_train is\", X_train.shape)\n",
    "print(\"Shape of the X_test is\", X_test.shape)"
   ]
  },
  {
   "cell_type": "code",
   "execution_count": 43,
   "metadata": {},
   "outputs": [
    {
     "name": "stdout",
     "output_type": "stream",
     "text": [
      "Shape of the Y_train is (17654, 3)\n",
      "Shape of the Y_test is (6947, 3)\n"
     ]
    }
   ],
   "source": [
    "Y_train = train_dataset.iloc[:,12:]\n",
    "Y_test = test_dataset.iloc[:, 12:]\n",
    "print(\"Shape of the Y_train is\", Y_train.shape)\n",
    "print(\"Shape of the Y_test is\", Y_test.shape)"
   ]
  },
  {
   "cell_type": "code",
   "execution_count": 44,
   "metadata": {},
   "outputs": [],
   "source": [
    "X_train, X_val, Y_train, Y_val = train_test_split(X_train, Y_train, test_size=0.1)"
   ]
  },
  {
   "cell_type": "code",
   "execution_count": 51,
   "metadata": {},
   "outputs": [],
   "source": [
    "from keras.models import Sequential\n",
    "from keras.layers import Dense\n",
    "\n",
    "model = Sequential([\n",
    "    Dense(16, activation='relu', input_shape=(12,)),\n",
    "    \n",
    "    Dense(3, activation='sigmoid'),\n",
    "])"
   ]
  },
  {
   "cell_type": "code",
   "execution_count": 52,
   "metadata": {},
   "outputs": [],
   "source": [
    "model.compile(optimizer='sgd', loss='mse',\n",
    "              metrics=['mae', 'mse'])"
   ]
  },
  {
   "cell_type": "code",
   "execution_count": 53,
   "metadata": {},
   "outputs": [
    {
     "name": "stdout",
     "output_type": "stream",
     "text": [
      "WARNING:tensorflow:From /usr/local/lib/python3.5/dist-packages/keras/backend/tensorflow_backend.py:422: The name tf.global_variables is deprecated. Please use tf.compat.v1.global_variables instead.\n",
      "\n",
      "Train on 15888 samples, validate on 1766 samples\n",
      "Epoch 1/50\n",
      "15888/15888 [==============================] - 3s 165us/step - loss: 0.2044 - mae: 0.2616 - mse: 0.2044 - val_loss: 0.1872 - val_mae: 0.2509 - val_mse: 0.1872\n",
      "Epoch 2/50\n",
      "15888/15888 [==============================] - 1s 68us/step - loss: 0.1805 - mae: 0.2406 - mse: 0.1805 - val_loss: 0.1864 - val_mae: 0.2497 - val_mse: 0.1864\n",
      "Epoch 3/50\n",
      "15888/15888 [==============================] - 1s 68us/step - loss: 0.1799 - mae: 0.2398 - mse: 0.1799 - val_loss: 0.1861 - val_mae: 0.2493 - val_mse: 0.1861\n",
      "Epoch 4/50\n",
      "15888/15888 [==============================] - 1s 68us/step - loss: 0.1796 - mae: 0.2394 - mse: 0.1796 - val_loss: 0.1860 - val_mae: 0.2490 - val_mse: 0.1860\n",
      "Epoch 5/50\n",
      "15888/15888 [==============================] - 1s 67us/step - loss: 0.1794 - mae: 0.2392 - mse: 0.1794 - val_loss: 0.1859 - val_mae: 0.2489 - val_mse: 0.1859\n",
      "Epoch 6/50\n",
      "15888/15888 [==============================] - 1s 70us/step - loss: 0.1793 - mae: 0.2390 - mse: 0.1793 - val_loss: 0.1858 - val_mae: 0.2488 - val_mse: 0.1858\n",
      "Epoch 7/50\n",
      "15888/15888 [==============================] - 1s 67us/step - loss: 0.1792 - mae: 0.2388 - mse: 0.1792 - val_loss: 0.1858 - val_mae: 0.2487 - val_mse: 0.1858\n",
      "Epoch 8/50\n",
      "15888/15888 [==============================] - 1s 68us/step - loss: 0.1791 - mae: 0.2387 - mse: 0.1791 - val_loss: 0.1857 - val_mae: 0.2486 - val_mse: 0.1857\n",
      "Epoch 9/50\n",
      "15888/15888 [==============================] - 1s 69us/step - loss: 0.1789 - mae: 0.2385 - mse: 0.1789 - val_loss: 0.1857 - val_mae: 0.2486 - val_mse: 0.1857\n",
      "Epoch 10/50\n",
      "15888/15888 [==============================] - 1s 69us/step - loss: 0.1789 - mae: 0.2384 - mse: 0.1789 - val_loss: 0.1857 - val_mae: 0.2485 - val_mse: 0.1857\n",
      "Epoch 11/50\n",
      "15888/15888 [==============================] - 1s 69us/step - loss: 0.1788 - mae: 0.2383 - mse: 0.1788 - val_loss: 0.1856 - val_mae: 0.2485 - val_mse: 0.1856\n",
      "Epoch 12/50\n",
      "15888/15888 [==============================] - 1s 66us/step - loss: 0.1787 - mae: 0.2382 - mse: 0.1787 - val_loss: 0.1856 - val_mae: 0.2485 - val_mse: 0.1856\n",
      "Epoch 13/50\n",
      "15888/15888 [==============================] - 1s 68us/step - loss: 0.1787 - mae: 0.2382 - mse: 0.1787 - val_loss: 0.1856 - val_mae: 0.2485 - val_mse: 0.1856\n",
      "Epoch 14/50\n",
      "15888/15888 [==============================] - 1s 67us/step - loss: 0.1787 - mae: 0.2381 - mse: 0.1787 - val_loss: 0.1856 - val_mae: 0.2484 - val_mse: 0.1856\n",
      "Epoch 15/50\n",
      "15888/15888 [==============================] - 1s 67us/step - loss: 0.1787 - mae: 0.2381 - mse: 0.1787 - val_loss: 0.1856 - val_mae: 0.2484 - val_mse: 0.1856\n",
      "Epoch 16/50\n",
      "15888/15888 [==============================] - 1s 68us/step - loss: 0.1786 - mae: 0.2381 - mse: 0.1786 - val_loss: 0.1856 - val_mae: 0.2484 - val_mse: 0.1856\n",
      "Epoch 17/50\n",
      "15888/15888 [==============================] - 1s 68us/step - loss: 0.1786 - mae: 0.2381 - mse: 0.1786 - val_loss: 0.1856 - val_mae: 0.2484 - val_mse: 0.1856\n",
      "Epoch 18/50\n",
      "15888/15888 [==============================] - 1s 68us/step - loss: 0.1786 - mae: 0.2381 - mse: 0.1786 - val_loss: 0.1856 - val_mae: 0.2484 - val_mse: 0.1856\n",
      "Epoch 19/50\n",
      "15888/15888 [==============================] - 1s 70us/step - loss: 0.1786 - mae: 0.2380 - mse: 0.1786 - val_loss: 0.1856 - val_mae: 0.2484 - val_mse: 0.1856\n",
      "Epoch 20/50\n",
      "15888/15888 [==============================] - 1s 69us/step - loss: 0.1786 - mae: 0.2380 - mse: 0.1786 - val_loss: 0.1856 - val_mae: 0.2484 - val_mse: 0.1856\n",
      "Epoch 21/50\n",
      "15888/15888 [==============================] - 1s 69us/step - loss: 0.1786 - mae: 0.2380 - mse: 0.1786 - val_loss: 0.1856 - val_mae: 0.2484 - val_mse: 0.1856\n",
      "Epoch 22/50\n",
      "15888/15888 [==============================] - 1s 68us/step - loss: 0.1786 - mae: 0.2380 - mse: 0.1786 - val_loss: 0.1856 - val_mae: 0.2484 - val_mse: 0.1856\n",
      "Epoch 23/50\n",
      "15888/15888 [==============================] - 1s 69us/step - loss: 0.1785 - mae: 0.2380 - mse: 0.1785 - val_loss: 0.1856 - val_mae: 0.2484 - val_mse: 0.1856\n",
      "Epoch 24/50\n",
      "15888/15888 [==============================] - 1s 70us/step - loss: 0.1785 - mae: 0.2379 - mse: 0.1785 - val_loss: 0.1856 - val_mae: 0.2484 - val_mse: 0.1856\n",
      "Epoch 25/50\n",
      "15888/15888 [==============================] - 1s 69us/step - loss: 0.1785 - mae: 0.2379 - mse: 0.1785 - val_loss: 0.1856 - val_mae: 0.2484 - val_mse: 0.1856\n",
      "Epoch 26/50\n",
      "15888/15888 [==============================] - 1s 69us/step - loss: 0.1785 - mae: 0.2379 - mse: 0.1785 - val_loss: 0.1856 - val_mae: 0.2484 - val_mse: 0.1856\n",
      "Epoch 27/50\n",
      "15888/15888 [==============================] - 1s 68us/step - loss: 0.1785 - mae: 0.2379 - mse: 0.1785 - val_loss: 0.1856 - val_mae: 0.2484 - val_mse: 0.1856\n",
      "Epoch 28/50\n",
      "15888/15888 [==============================] - 1s 68us/step - loss: 0.1785 - mae: 0.2379 - mse: 0.1785 - val_loss: 0.1856 - val_mae: 0.2484 - val_mse: 0.1856\n",
      "Epoch 29/50\n",
      "15888/15888 [==============================] - 1s 68us/step - loss: 0.1785 - mae: 0.2378 - mse: 0.1785 - val_loss: 0.1856 - val_mae: 0.2484 - val_mse: 0.1856\n",
      "Epoch 30/50\n",
      "15888/15888 [==============================] - 1s 67us/step - loss: 0.1784 - mae: 0.2378 - mse: 0.1784 - val_loss: 0.1856 - val_mae: 0.2484 - val_mse: 0.1856\n",
      "Epoch 31/50\n",
      "15888/15888 [==============================] - 1s 68us/step - loss: 0.1784 - mae: 0.2378 - mse: 0.1784 - val_loss: 0.1856 - val_mae: 0.2483 - val_mse: 0.1856\n",
      "Epoch 32/50\n",
      "15888/15888 [==============================] - 1s 66us/step - loss: 0.1784 - mae: 0.2378 - mse: 0.1784 - val_loss: 0.1856 - val_mae: 0.2483 - val_mse: 0.1856\n",
      "Epoch 33/50\n",
      "15888/15888 [==============================] - 1s 67us/step - loss: 0.1784 - mae: 0.2378 - mse: 0.1784 - val_loss: 0.1856 - val_mae: 0.2483 - val_mse: 0.1856\n",
      "Epoch 34/50\n",
      "15888/15888 [==============================] - 1s 66us/step - loss: 0.1784 - mae: 0.2378 - mse: 0.1784 - val_loss: 0.1856 - val_mae: 0.2483 - val_mse: 0.1856\n",
      "Epoch 35/50\n",
      "15888/15888 [==============================] - 1s 68us/step - loss: 0.1784 - mae: 0.2378 - mse: 0.1784 - val_loss: 0.1856 - val_mae: 0.2483 - val_mse: 0.1856\n",
      "Epoch 36/50\n",
      "15888/15888 [==============================] - 1s 67us/step - loss: 0.1784 - mae: 0.2378 - mse: 0.1784 - val_loss: 0.1856 - val_mae: 0.2483 - val_mse: 0.1856\n",
      "Epoch 37/50\n",
      "15888/15888 [==============================] - 1s 67us/step - loss: 0.1784 - mae: 0.2378 - mse: 0.1784 - val_loss: 0.1856 - val_mae: 0.2483 - val_mse: 0.1856\n",
      "Epoch 38/50\n",
      "15888/15888 [==============================] - 1s 68us/step - loss: 0.1784 - mae: 0.2378 - mse: 0.1784 - val_loss: 0.1855 - val_mae: 0.2483 - val_mse: 0.1855\n",
      "Epoch 39/50\n",
      "15888/15888 [==============================] - 1s 67us/step - loss: 0.1784 - mae: 0.2378 - mse: 0.1784 - val_loss: 0.1855 - val_mae: 0.2483 - val_mse: 0.1855\n",
      "Epoch 40/50\n",
      "15888/15888 [==============================] - 1s 68us/step - loss: 0.1784 - mae: 0.2378 - mse: 0.1784 - val_loss: 0.1855 - val_mae: 0.2483 - val_mse: 0.1855\n",
      "Epoch 41/50\n",
      "15888/15888 [==============================] - 1s 68us/step - loss: 0.1784 - mae: 0.2378 - mse: 0.1784 - val_loss: 0.1855 - val_mae: 0.2483 - val_mse: 0.1855\n",
      "Epoch 42/50\n",
      "15888/15888 [==============================] - 1s 68us/step - loss: 0.1784 - mae: 0.2378 - mse: 0.1784 - val_loss: 0.1855 - val_mae: 0.2483 - val_mse: 0.1855\n",
      "Epoch 43/50\n",
      "15888/15888 [==============================] - 1s 68us/step - loss: 0.1784 - mae: 0.2378 - mse: 0.1784 - val_loss: 0.1855 - val_mae: 0.2483 - val_mse: 0.1855\n",
      "Epoch 44/50\n",
      "15888/15888 [==============================] - 1s 67us/step - loss: 0.1784 - mae: 0.2378 - mse: 0.1784 - val_loss: 0.1855 - val_mae: 0.2483 - val_mse: 0.1855\n",
      "Epoch 45/50\n",
      "15888/15888 [==============================] - 1s 67us/step - loss: 0.1784 - mae: 0.2378 - mse: 0.1784 - val_loss: 0.1855 - val_mae: 0.2483 - val_mse: 0.1855\n",
      "Epoch 46/50\n",
      "15888/15888 [==============================] - 1s 67us/step - loss: 0.1784 - mae: 0.2378 - mse: 0.1784 - val_loss: 0.1855 - val_mae: 0.2483 - val_mse: 0.1855\n",
      "Epoch 47/50\n",
      "15888/15888 [==============================] - 1s 67us/step - loss: 0.1784 - mae: 0.2378 - mse: 0.1784 - val_loss: 0.1855 - val_mae: 0.2483 - val_mse: 0.1855\n"
     ]
    },
    {
     "name": "stdout",
     "output_type": "stream",
     "text": [
      "Epoch 48/50\n",
      "15888/15888 [==============================] - 1s 68us/step - loss: 0.1784 - mae: 0.2378 - mse: 0.1784 - val_loss: 0.1855 - val_mae: 0.2483 - val_mse: 0.1855\n",
      "Epoch 49/50\n",
      "15888/15888 [==============================] - 1s 68us/step - loss: 0.1784 - mae: 0.2377 - mse: 0.1784 - val_loss: 0.1855 - val_mae: 0.2483 - val_mse: 0.1855\n",
      "Epoch 50/50\n",
      "15888/15888 [==============================] - 1s 68us/step - loss: 0.1784 - mae: 0.2377 - mse: 0.1784 - val_loss: 0.1855 - val_mae: 0.2483 - val_mse: 0.1855\n"
     ]
    }
   ],
   "source": [
    "hist = model.fit(X_train, Y_train,\n",
    "          batch_size=32, epochs=50,\n",
    "          validation_data=(X_val, Y_val))"
   ]
  },
  {
   "cell_type": "code",
   "execution_count": 54,
   "metadata": {},
   "outputs": [
    {
     "data": {
      "image/png": "[encoded data removed]",
      "text/plain": [
       "<Figure size 432x288 with 1 Axes>"
      ]
     },
     "metadata": {
      "needs_background": "light"
     },
     "output_type": "display_data"
    }
   ],
   "source": [
    "plt.plot(hist.history['mae'])\n",
    "plt.plot(hist.history['val_mae'])\n",
    "plt.title('MAE')\n",
    "plt.ylabel('Loss')\n",
    "plt.xlabel('Epoch')\n",
    "plt.legend(['Train', 'Test'], loc='upper left')\n",
    "plt.show()"
   ]
  },
  {
   "cell_type": "code",
   "execution_count": 56,
   "metadata": {},
   "outputs": [
    {
     "name": "stdout",
     "output_type": "stream",
     "text": [
      "Mean Absolute Error: 0.29891524755491794\n",
      "Mean Squared Error: 0.24767282286774417\n",
      "Root Mean Squared Error: 0.49766738175989006\n"
     ]
    }
   ],
   "source": [
    "y_pred = model.predict(X_test)\n",
    "print('Mean Absolute Error:', metrics.mean_absolute_error(Y_test, y_pred))  \n",
    "print('Mean Squared Error:', metrics.mean_squared_error(Y_test, y_pred))  \n",
    "print('Root Mean Squared Error:', np.sqrt(metrics.mean_squared_error(Y_test, y_pred)))"
   ]
  }
 ],
 "metadata": {
  "kernelspec": {
   "display_name": "Python 3",
   "language": "python",
   "name": "python3"
  },
  "language_info": {
   "codemirror_mode": {
    "name": "ipython",
    "version": 3
   },
   "file_extension": ".py",
   "mimetype": "text/x-python",
   "name": "python",
   "nbconvert_exporter": "python",
   "pygments_lexer": "ipython3",
   "version": "3.5.3"
  }
 },
 "nbformat": 4,
 "nbformat_minor": 2
}
