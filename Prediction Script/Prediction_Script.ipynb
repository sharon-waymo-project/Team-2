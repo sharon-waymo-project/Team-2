{
  "nbformat": 4,
  "nbformat_minor": 0,
  "metadata": {
    "kernelspec": {
      "display_name": "Python 3",
      "language": "python",
      "name": "python3"
    },
    "language_info": {
      "codemirror_mode": {
        "name": "ipython",
        "version": 3
      },
      "file_extension": ".py",
      "mimetype": "text/x-python",
      "name": "python",
      "nbconvert_exporter": "python",
      "pygments_lexer": "ipython3",
      "version": "3.5.3"
    },
    "colab": {
      "name": "Prediction_Script.ipynb",
      "provenance": [],
      "collapsed_sections": []
    }
  },
  "cells": [
    {
      "cell_type": "code",
      "metadata": {
        "id": "Xx0XKnTzjEhJ",
        "colab_type": "code",
        "colab": {}
      },
      "source": [
        "import pandas as pd  \n",
        "import numpy as np\n",
        "from sklearn import metrics\n",
        "import pickle"
      ],
      "execution_count": 0,
      "outputs": []
    },
    {
      "cell_type": "code",
      "metadata": {
        "id": "meAl4EY3jiLX",
        "colab_type": "code",
        "colab": {
          "base_uri": "https://localhost:8080/",
          "height": 34
        },
        "outputId": "f6e44ad0-3571-4eea-c075-a680643a11be"
      },
      "source": [
        "from google.colab import drive\n",
        "drive.mount('/content/gdrive')\n",
        "import os\n",
        "os.chdir(\"/content/gdrive/My Drive/RandomForest\")"
      ],
      "execution_count": 15,
      "outputs": [
        {
          "output_type": "stream",
          "text": [
            "Drive already mounted at /content/gdrive; to attempt to forcibly remount, call drive.mount(\"/content/gdrive\", force_remount=True).\n"
          ],
          "name": "stdout"
        }
      ]
    },
    {
      "cell_type": "code",
      "metadata": {
        "id": "r7B5KfEOjEhR",
        "colab_type": "code",
        "colab": {
          "base_uri": "https://localhost:8080/",
          "height": 34
        },
        "outputId": "7ed6b8c1-d026-464f-9f27-ded4b77dbb79"
      },
      "source": [
        "test_dataset = pd.read_csv('test_file.csv', names=[\"vx\", \"vy\", \"vz\", \"dx\", \"dy\", \"vfx\", \"vfy\", \"vfz\", \"afx\", \"afy\", \"afz\", \"num_v_labels\", \"ax\", \"ay\", \"az\"])\n",
        "test_dataset = test_dataset.drop(test_dataset.index[0])\n",
        "test_dataset = test_dataset.astype(np.float)\n",
        "print(\"Shape of the validation data is\", test_dataset.shape)"
      ],
      "execution_count": 16,
      "outputs": [
        {
          "output_type": "stream",
          "text": [
            "Shape of the validation data is (197, 15)\n"
          ],
          "name": "stdout"
        }
      ]
    },
    {
      "cell_type": "code",
      "metadata": {
        "id": "XW4lBowvjEhX",
        "colab_type": "code",
        "colab": {
          "base_uri": "https://localhost:8080/",
          "height": 34
        },
        "outputId": "fc3d2560-5154-4129-ede5-c8909a0e3c5d"
      },
      "source": [
        "X_test = test_dataset.iloc[:, :12]\n",
        "X_test = X_test.astype(np.float)\n",
        "\n",
        "Y_test_ax, Y_test_ay, Y_test_az = test_dataset.iloc[:, 12], test_dataset.iloc[:, 13], test_dataset.iloc[:, 14]\n",
        "Y_test_ax, Y_test_ay, Y_test_az = Y_test_ax.astype(np.float), Y_test_ay.astype(np.float), Y_test_az.astype(np.float)\n",
        "print(\"Shape of the Y_test_ax, Y_test_ay, Y_test_az is\", Y_test_ax.shape, Y_test_ay.shape, Y_test_az.shape)"
      ],
      "execution_count": 17,
      "outputs": [
        {
          "output_type": "stream",
          "text": [
            "Shape of the Y_test_ax, Y_test_ay, Y_test_az is (197,) (197,) (197,)\n"
          ],
          "name": "stdout"
        }
      ]
    },
    {
      "cell_type": "code",
      "metadata": {
        "id": "aPyrAnY9jEhb",
        "colab_type": "code",
        "colab": {}
      },
      "source": [
        "# For ax\n",
        "filename = \"voting_regressor_ax.sav\"\n",
        "loaded_model = pickle.load(open(filename, 'rb'))\n",
        "y_pred_ax = loaded_model.predict(X_test)\n",
        "\n",
        "# For ay\n",
        "filename = \"voting_regressor_ay.sav\"\n",
        "loaded_model = pickle.load(open(filename, 'rb'))\n",
        "y_pred_ay = loaded_model.predict(X_test)\n",
        "\n",
        "# For az\n",
        "filename = \"voting_regressor_az.sav\"\n",
        "loaded_model = pickle.load(open(filename, 'rb'))\n",
        "y_pred_az = loaded_model.predict(X_test)"
      ],
      "execution_count": 0,
      "outputs": []
    },
    {
      "cell_type": "code",
      "metadata": {
        "id": "h7H56VAYjEhf",
        "colab_type": "code",
        "colab": {
          "base_uri": "https://localhost:8080/",
          "height": 34
        },
        "outputId": "c3294d85-b3e0-429a-cb77-820d5dd70b9e"
      },
      "source": [
        "y_pred = np.vstack([y_pred_ax, y_pred_ay, y_pred_az]).T\n",
        "print(y_pred.shape)"
      ],
      "execution_count": 19,
      "outputs": [
        {
          "output_type": "stream",
          "text": [
            "(197, 3)\n"
          ],
          "name": "stdout"
        }
      ]
    },
    {
      "cell_type": "code",
      "metadata": {
        "id": "IiVllitTjEhh",
        "colab_type": "code",
        "colab": {}
      },
      "source": [
        "y_pred = pd.DataFrame(y_pred)\n",
        "y_pred.to_csv('y_pred.csv', index=False, header=False)\n",
        "\n",
        "test_dataset.to_csv('y_truth.csv', index=False, header=False)"
      ],
      "execution_count": 0,
      "outputs": []
    },
    {
      "cell_type": "code",
      "metadata": {
        "id": "aOc-LTECqkIv",
        "colab_type": "code",
        "colab": {}
      },
      "source": [
        ""
      ],
      "execution_count": 0,
      "outputs": []
    }
  ]
}