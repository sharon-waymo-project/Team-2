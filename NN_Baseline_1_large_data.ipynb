{
 "cells": [
  {
   "cell_type": "code",
   "execution_count": 1,
   "metadata": {},
   "outputs": [],
   "source": [
    "import pandas as pd  \n",
    "import numpy as np  \n",
    "import matplotlib.pyplot as plt  \n",
    "import seaborn as seabornInstance \n",
    "from sklearn.model_selection import train_test_split \n",
    "from sklearn.linear_model import LinearRegression\n",
    "from sklearn import metrics\n",
    "%matplotlib inline"
   ]
  },
  {
   "cell_type": "code",
   "execution_count": 2,
   "metadata": {},
   "outputs": [
    {
     "name": "stderr",
     "output_type": "stream",
     "text": [
      "/usr/local/lib/python3.5/dist-packages/IPython/core/interactiveshell.py:3058: DtypeWarning: Columns (0,1,2,3,4,5,6,7,8,9,10,11,12,13,14) have mixed types. Specify dtype option on import or set low_memory=False.\n",
      "  interactivity=interactivity, compiler=compiler, result=result)\n"
     ]
    }
   ],
   "source": [
    "train_dataset = pd.read_csv('../../train_final.csv', names=[\"vx\", \"vy\", \"vz\", \"dx\", \"dy\", \"vfx\", \"vfy\", \"vfz\", \"afx\", \"afy\", \"afz\", \"num_v_labels\", \"ax\", \"ay\", \"az\"])\n",
    "test_dataset = pd.read_csv('../../test.csv', names=[\"vx\", \"vy\", \"vz\", \"dx\", \"dy\", \"vfx\", \"vfy\", \"vfz\", \"afx\", \"afy\", \"afz\", \"num_v_labels\", \"ax\", \"ay\", \"az\"])"
   ]
  },
  {
   "cell_type": "code",
   "execution_count": 3,
   "metadata": {},
   "outputs": [],
   "source": [
    "train_dataset = train_dataset.drop(train_dataset.index[0])\n",
    "test_dataset = test_dataset.drop(test_dataset.index[0])"
   ]
  },
  {
   "cell_type": "code",
   "execution_count": 4,
   "metadata": {},
   "outputs": [
    {
     "name": "stdout",
     "output_type": "stream",
     "text": [
      "Shape of the training data is (154371, 15)\n",
      "Shape of the validation data is (29004, 15)\n"
     ]
    }
   ],
   "source": [
    "print(\"Shape of the training data is\", train_dataset.shape)\n",
    "print(\"Shape of the validation data is\", test_dataset.shape)"
   ]
  },
  {
   "cell_type": "code",
   "execution_count": 5,
   "metadata": {},
   "outputs": [
    {
     "name": "stdout",
     "output_type": "stream",
     "text": [
      "Shape of the X_train is (154371, 12)\n",
      "Shape of the X_test is (29004, 12)\n"
     ]
    }
   ],
   "source": [
    "X_train = train_dataset.iloc[:, :12]\n",
    "X_test = test_dataset.iloc[:, :12]\n",
    "print(\"Shape of the X_train is\", X_train.shape)\n",
    "print(\"Shape of the X_test is\", X_test.shape)"
   ]
  },
  {
   "cell_type": "code",
   "execution_count": 6,
   "metadata": {},
   "outputs": [
    {
     "name": "stdout",
     "output_type": "stream",
     "text": [
      "Shape of the Y_train is (154371, 3)\n",
      "Shape of the Y_test is (29004, 3)\n"
     ]
    }
   ],
   "source": [
    "Y_train = train_dataset.iloc[:,12:]\n",
    "Y_test = test_dataset.iloc[:, 12:]\n",
    "print(\"Shape of the Y_train is\", Y_train.shape)\n",
    "print(\"Shape of the Y_test is\", Y_test.shape)"
   ]
  },
  {
   "cell_type": "code",
   "execution_count": 7,
   "metadata": {},
   "outputs": [],
   "source": [
    "X_train, X_val, Y_train, Y_val = train_test_split(X_train, Y_train, test_size=0.1)"
   ]
  },
  {
   "cell_type": "code",
   "execution_count": 8,
   "metadata": {},
   "outputs": [
    {
     "name": "stderr",
     "output_type": "stream",
     "text": [
      "Using TensorFlow backend.\n"
     ]
    },
    {
     "name": "stdout",
     "output_type": "stream",
     "text": [
      "WARNING:tensorflow:From /usr/local/lib/python3.5/dist-packages/tensorflow_core/python/ops/resource_variable_ops.py:1630: calling BaseResourceVariable.__init__ (from tensorflow.python.ops.resource_variable_ops) with constraint is deprecated and will be removed in a future version.\n",
      "Instructions for updating:\n",
      "If using Keras pass *_constraint arguments to layers.\n"
     ]
    }
   ],
   "source": [
    "from keras.models import Sequential\n",
    "from keras.layers import Dense\n",
    "\n",
    "model = Sequential([\n",
    "    Dense(16, activation='relu', input_shape=(12,)),\n",
    "    \n",
    "    Dense(3, activation='sigmoid'),\n",
    "])"
   ]
  },
  {
   "cell_type": "code",
   "execution_count": 9,
   "metadata": {},
   "outputs": [],
   "source": [
    "model.compile(optimizer='sgd', loss='mse',\n",
    "              metrics=['mae', 'mse'])"
   ]
  },
  {
   "cell_type": "code",
   "execution_count": 10,
   "metadata": {},
   "outputs": [
    {
     "name": "stdout",
     "output_type": "stream",
     "text": [
      "WARNING:tensorflow:From /usr/local/lib/python3.5/dist-packages/keras/backend/tensorflow_backend.py:422: The name tf.global_variables is deprecated. Please use tf.compat.v1.global_variables instead.\n",
      "\n",
      "Train on 138933 samples, validate on 15438 samples\n",
      "Epoch 1/50\n",
      "138933/138933 [==============================] - 11s 82us/step - loss: 0.2699 - mae: 0.3067 - mse: 0.2699 - val_loss: 0.2663 - val_mae: 0.3010 - val_mse: 0.2663\n",
      "Epoch 2/50\n",
      "138933/138933 [==============================] - 12s 83us/step - loss: 0.2627 - mae: 0.3003 - mse: 0.2627 - val_loss: 0.2658 - val_mae: 0.3006 - val_mse: 0.2658\n",
      "Epoch 3/50\n",
      "138933/138933 [==============================] - 11s 80us/step - loss: 0.2624 - mae: 0.3000 - mse: 0.2624 - val_loss: 0.2655 - val_mae: 0.3003 - val_mse: 0.2655\n",
      "Epoch 4/50\n",
      "138933/138933 [==============================] - 11s 79us/step - loss: 0.2622 - mae: 0.2998 - mse: 0.2622 - val_loss: 0.2654 - val_mae: 0.3003 - val_mse: 0.2654\n",
      "Epoch 5/50\n",
      "138933/138933 [==============================] - 12s 83us/step - loss: 0.2621 - mae: 0.2998 - mse: 0.2621 - val_loss: 0.2653 - val_mae: 0.3002 - val_mse: 0.2653\n",
      "Epoch 6/50\n",
      "138933/138933 [==============================] - 12s 84us/step - loss: 0.2621 - mae: 0.2998 - mse: 0.2621 - val_loss: 0.2653 - val_mae: 0.3002 - val_mse: 0.2653\n",
      "Epoch 7/50\n",
      "138933/138933 [==============================] - 11s 80us/step - loss: 0.2620 - mae: 0.2997 - mse: 0.2620 - val_loss: 0.2652 - val_mae: 0.3002 - val_mse: 0.2652\n",
      "Epoch 8/50\n",
      "138933/138933 [==============================] - 11s 80us/step - loss: 0.2620 - mae: 0.2997 - mse: 0.2620 - val_loss: 0.2651 - val_mae: 0.3002 - val_mse: 0.2651\n",
      "Epoch 9/50\n",
      "138933/138933 [==============================] - 12s 86us/step - loss: 0.2619 - mae: 0.2997 - mse: 0.2619 - val_loss: 0.2651 - val_mae: 0.3002 - val_mse: 0.2651\n",
      "Epoch 10/50\n",
      "138933/138933 [==============================] - 14s 98us/step - loss: 0.2618 - mae: 0.2997 - mse: 0.2618 - val_loss: 0.2650 - val_mae: 0.3002 - val_mse: 0.2650\n",
      "Epoch 11/50\n",
      "138933/138933 [==============================] - 14s 99us/step - loss: 0.2616 - mae: 0.2997 - mse: 0.2616 - val_loss: 0.2649 - val_mae: 0.3002 - val_mse: 0.2649\n",
      "Epoch 12/50\n",
      "138933/138933 [==============================] - 14s 98us/step - loss: 0.2613 - mae: 0.2996 - mse: 0.2613 - val_loss: 0.2645 - val_mae: 0.3001 - val_mse: 0.2645\n",
      "Epoch 13/50\n",
      "138933/138933 [==============================] - 14s 98us/step - loss: 0.2607 - mae: 0.2997 - mse: 0.2607 - val_loss: 0.2641 - val_mae: 0.3005 - val_mse: 0.2641\n",
      "Epoch 14/50\n",
      "138933/138933 [==============================] - 14s 98us/step - loss: 0.2601 - mae: 0.2998 - mse: 0.2601 - val_loss: 0.2634 - val_mae: 0.3003 - val_mse: 0.2634\n",
      "Epoch 15/50\n",
      "138933/138933 [==============================] - 14s 98us/step - loss: 0.2592 - mae: 0.3001 - mse: 0.2592 - val_loss: 0.2617 - val_mae: 0.3009 - val_mse: 0.2617\n",
      "Epoch 16/50\n",
      "138933/138933 [==============================] - 14s 98us/step - loss: 0.2567 - mae: 0.3008 - mse: 0.2567 - val_loss: 0.2579 - val_mae: 0.3003 - val_mse: 0.2579\n",
      "Epoch 17/50\n",
      "138933/138933 [==============================] - 14s 98us/step - loss: 0.2537 - mae: 0.2995 - mse: 0.2537 - val_loss: 0.2553 - val_mae: 0.2980 - val_mse: 0.2553\n",
      "Epoch 18/50\n",
      "138933/138933 [==============================] - 14s 98us/step - loss: 0.2516 - mae: 0.2980 - mse: 0.2516 - val_loss: 0.2532 - val_mae: 0.2966 - val_mse: 0.2532\n",
      "Epoch 19/50\n",
      "138933/138933 [==============================] - 14s 98us/step - loss: 0.2502 - mae: 0.2965 - mse: 0.2502 - val_loss: 0.2523 - val_mae: 0.2952 - val_mse: 0.2523\n",
      "Epoch 20/50\n",
      "138933/138933 [==============================] - 14s 98us/step - loss: 0.2494 - mae: 0.2955 - mse: 0.2494 - val_loss: 0.2512 - val_mae: 0.2944 - val_mse: 0.2512\n",
      "Epoch 21/50\n",
      "138933/138933 [==============================] - 14s 98us/step - loss: 0.2488 - mae: 0.2946 - mse: 0.2488 - val_loss: 0.2508 - val_mae: 0.2941 - val_mse: 0.2508\n",
      "Epoch 22/50\n",
      "138933/138933 [==============================] - 14s 98us/step - loss: 0.2484 - mae: 0.2940 - mse: 0.2484 - val_loss: 0.2506 - val_mae: 0.2940 - val_mse: 0.2506\n",
      "Epoch 23/50\n",
      "138933/138933 [==============================] - 14s 98us/step - loss: 0.2480 - mae: 0.2934 - mse: 0.2480 - val_loss: 0.2508 - val_mae: 0.2931 - val_mse: 0.2508\n",
      "Epoch 24/50\n",
      "138933/138933 [==============================] - 14s 98us/step - loss: 0.2478 - mae: 0.2931 - mse: 0.2478 - val_loss: 0.2498 - val_mae: 0.2924 - val_mse: 0.2498\n",
      "Epoch 25/50\n",
      "138933/138933 [==============================] - 14s 98us/step - loss: 0.2475 - mae: 0.2927 - mse: 0.2475 - val_loss: 0.2496 - val_mae: 0.2919 - val_mse: 0.2496\n",
      "Epoch 26/50\n",
      "138933/138933 [==============================] - 14s 100us/step - loss: 0.2473 - mae: 0.2923 - mse: 0.2473 - val_loss: 0.2497 - val_mae: 0.2917 - val_mse: 0.2497\n",
      "Epoch 27/50\n",
      "138933/138933 [==============================] - 14s 98us/step - loss: 0.2471 - mae: 0.2921 - mse: 0.2471 - val_loss: 0.2494 - val_mae: 0.2923 - val_mse: 0.2494\n",
      "Epoch 28/50\n",
      "138933/138933 [==============================] - 14s 98us/step - loss: 0.2469 - mae: 0.2918 - mse: 0.2469 - val_loss: 0.2497 - val_mae: 0.2915 - val_mse: 0.2497\n",
      "Epoch 29/50\n",
      "138933/138933 [==============================] - 14s 103us/step - loss: 0.2467 - mae: 0.2916 - mse: 0.2467 - val_loss: 0.2492 - val_mae: 0.2917 - val_mse: 0.2492\n",
      "Epoch 30/50\n",
      "138933/138933 [==============================] - 14s 98us/step - loss: 0.2467 - mae: 0.2914 - mse: 0.2467 - val_loss: 0.2490 - val_mae: 0.2913 - val_mse: 0.2490\n",
      "Epoch 31/50\n",
      "138933/138933 [==============================] - 14s 98us/step - loss: 0.2466 - mae: 0.2913 - mse: 0.2466 - val_loss: 0.2489 - val_mae: 0.2912 - val_mse: 0.2489\n",
      "Epoch 32/50\n",
      "138933/138933 [==============================] - 14s 98us/step - loss: 0.2465 - mae: 0.2912 - mse: 0.2465 - val_loss: 0.2499 - val_mae: 0.2918 - val_mse: 0.2499\n",
      "Epoch 33/50\n",
      "138933/138933 [==============================] - 14s 98us/step - loss: 0.2464 - mae: 0.2911 - mse: 0.2464 - val_loss: 0.2491 - val_mae: 0.2917 - val_mse: 0.2491\n",
      "Epoch 34/50\n",
      "138933/138933 [==============================] - 14s 97us/step - loss: 0.2463 - mae: 0.2910 - mse: 0.2463 - val_loss: 0.2488 - val_mae: 0.2907 - val_mse: 0.2488\n",
      "Epoch 35/50\n",
      "138933/138933 [==============================] - 14s 98us/step - loss: 0.2462 - mae: 0.2909 - mse: 0.2462 - val_loss: 0.2486 - val_mae: 0.2907 - val_mse: 0.2486\n",
      "Epoch 36/50\n",
      "138933/138933 [==============================] - 14s 98us/step - loss: 0.2462 - mae: 0.2908 - mse: 0.2462 - val_loss: 0.2497 - val_mae: 0.2917 - val_mse: 0.2497\n",
      "Epoch 37/50\n",
      "138933/138933 [==============================] - 14s 98us/step - loss: 0.2461 - mae: 0.2907 - mse: 0.2461 - val_loss: 0.2488 - val_mae: 0.2905 - val_mse: 0.2488\n",
      "Epoch 38/50\n",
      "138933/138933 [==============================] - 14s 98us/step - loss: 0.2460 - mae: 0.2906 - mse: 0.2460 - val_loss: 0.2485 - val_mae: 0.2908 - val_mse: 0.2485\n",
      "Epoch 39/50\n",
      "138933/138933 [==============================] - 14s 98us/step - loss: 0.2460 - mae: 0.2905 - mse: 0.2460 - val_loss: 0.2495 - val_mae: 0.2925 - val_mse: 0.2495\n",
      "Epoch 40/50\n",
      "138933/138933 [==============================] - 14s 98us/step - loss: 0.2460 - mae: 0.2905 - mse: 0.2460 - val_loss: 0.2484 - val_mae: 0.2902 - val_mse: 0.2484\n",
      "Epoch 41/50\n",
      "138933/138933 [==============================] - 14s 98us/step - loss: 0.2459 - mae: 0.2904 - mse: 0.2459 - val_loss: 0.2483 - val_mae: 0.2901 - val_mse: 0.2483\n",
      "Epoch 42/50\n",
      "138933/138933 [==============================] - 14s 98us/step - loss: 0.2459 - mae: 0.2903 - mse: 0.2459 - val_loss: 0.2485 - val_mae: 0.2900 - val_mse: 0.2485\n",
      "Epoch 43/50\n",
      "138933/138933 [==============================] - 14s 98us/step - loss: 0.2458 - mae: 0.2903 - mse: 0.2458 - val_loss: 0.2491 - val_mae: 0.2918 - val_mse: 0.2491\n",
      "Epoch 44/50\n",
      "138933/138933 [==============================] - 14s 98us/step - loss: 0.2458 - mae: 0.2902 - mse: 0.2458 - val_loss: 0.2482 - val_mae: 0.2898 - val_mse: 0.2482\n",
      "Epoch 45/50\n",
      "138933/138933 [==============================] - 14s 98us/step - loss: 0.2458 - mae: 0.2901 - mse: 0.2458 - val_loss: 0.2485 - val_mae: 0.2902 - val_mse: 0.2485\n",
      "Epoch 46/50\n",
      "138933/138933 [==============================] - 14s 98us/step - loss: 0.2457 - mae: 0.2900 - mse: 0.2457 - val_loss: 0.2488 - val_mae: 0.2909 - val_mse: 0.2488\n",
      "Epoch 47/50\n",
      "138933/138933 [==============================] - 14s 98us/step - loss: 0.2457 - mae: 0.2900 - mse: 0.2457 - val_loss: 0.2482 - val_mae: 0.2900 - val_mse: 0.2482\n",
      "Epoch 48/50\n",
      "138933/138933 [==============================] - 14s 100us/step - loss: 0.2457 - mae: 0.2900 - mse: 0.2457 - val_loss: 0.2481 - val_mae: 0.2896 - val_mse: 0.2481\n",
      "Epoch 49/50\n",
      "138933/138933 [==============================] - 14s 98us/step - loss: 0.2457 - mae: 0.2900 - mse: 0.2457 - val_loss: 0.2484 - val_mae: 0.2904 - val_mse: 0.2484\n",
      "Epoch 50/50\n",
      "138933/138933 [==============================] - 14s 98us/step - loss: 0.2456 - mae: 0.2899 - mse: 0.2456 - val_loss: 0.2480 - val_mae: 0.2897 - val_mse: 0.2480\n"
     ]
    }
   ],
   "source": [
    "hist = model.fit(X_train, Y_train,\n",
    "          batch_size=32, epochs=50,\n",
    "          validation_data=(X_val, Y_val))"
   ]
  },
  {
   "cell_type": "code",
   "execution_count": 11,
   "metadata": {},
   "outputs": [
    {
     "data": {
      "image/png": "[encoded data removed]",
      "text/plain": [
       "<Figure size 432x288 with 1 Axes>"
      ]
     },
     "metadata": {
      "needs_background": "light"
     },
     "output_type": "display_data"
    }
   ],
   "source": [
    "plt.plot(hist.history['mae'])\n",
    "plt.plot(hist.history['val_mae'])\n",
    "plt.title('MAE')\n",
    "plt.ylabel('Loss')\n",
    "plt.xlabel('Epoch')\n",
    "plt.legend(['Train', 'Test'], loc='upper left')\n",
    "plt.show()"
   ]
  },
  {
   "cell_type": "code",
   "execution_count": 12,
   "metadata": {},
   "outputs": [
    {
     "name": "stdout",
     "output_type": "stream",
     "text": [
      "Mean Absolute Error: 0.3076060740913747\n",
      "Mean Squared Error: 0.2792367882573317\n",
      "Root Mean Squared Error: 0.5284286028001624\n"
     ]
    }
   ],
   "source": [
    "y_pred = model.predict(X_test)\n",
    "print('Mean Absolute Error:', metrics.mean_absolute_error(Y_test, y_pred))  \n",
    "print('Mean Squared Error:', metrics.mean_squared_error(Y_test, y_pred))  \n",
    "print('Root Mean Squared Error:', np.sqrt(metrics.mean_squared_error(Y_test, y_pred)))"
   ]
  },
  {
   "cell_type": "code",
   "execution_count": null,
   "metadata": {},
   "outputs": [],
   "source": []
  }
 ],
 "metadata": {
  "kernelspec": {
   "display_name": "Python 3",
   "language": "python",
   "name": "python3"
  },
  "language_info": {
   "codemirror_mode": {
    "name": "ipython",
    "version": 3
   },
   "file_extension": ".py",
   "mimetype": "text/x-python",
   "name": "python",
   "nbconvert_exporter": "python",
   "pygments_lexer": "ipython3",
   "version": "3.5.3"
  }
 },
 "nbformat": 4,
 "nbformat_minor": 4
}
